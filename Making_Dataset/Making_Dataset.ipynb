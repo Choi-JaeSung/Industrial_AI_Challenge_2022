{
 "cells": [
  {
   "cell_type": "code",
   "execution_count": 2,
   "metadata": {},
   "outputs": [],
   "source": [
    "import numpy as np\n",
    "import pandas as pd\n",
    "import matplotlib.pyplot as plt"
   ]
  },
  {
   "cell_type": "code",
   "execution_count": 6,
   "metadata": {},
   "outputs": [
    {
     "data": {
      "text/html": [
       "<div>\n",
       "<style scoped>\n",
       "    .dataframe tbody tr th:only-of-type {\n",
       "        vertical-align: middle;\n",
       "    }\n",
       "\n",
       "    .dataframe tbody tr th {\n",
       "        vertical-align: top;\n",
       "    }\n",
       "\n",
       "    .dataframe thead th {\n",
       "        text-align: right;\n",
       "    }\n",
       "</style>\n",
       "<table border=\"1\" class=\"dataframe\">\n",
       "  <thead>\n",
       "    <tr style=\"text-align: right;\">\n",
       "      <th></th>\n",
       "      <th>PSEUDO_ID</th>\n",
       "      <th>TEST_CD</th>\n",
       "      <th>TEST_REPRT_DATE</th>\n",
       "      <th>TEST_RESULT</th>\n",
       "    </tr>\n",
       "  </thead>\n",
       "  <tbody>\n",
       "    <tr>\n",
       "      <th>0</th>\n",
       "      <td>1868285</td>\n",
       "      <td>B0010</td>\n",
       "      <td>20090917</td>\n",
       "      <td>Yellow</td>\n",
       "    </tr>\n",
       "    <tr>\n",
       "      <th>1</th>\n",
       "      <td>1868285</td>\n",
       "      <td>B0010</td>\n",
       "      <td>20091022</td>\n",
       "      <td>Yellow</td>\n",
       "    </tr>\n",
       "    <tr>\n",
       "      <th>2</th>\n",
       "      <td>1868285</td>\n",
       "      <td>B0010</td>\n",
       "      <td>20091127</td>\n",
       "      <td>Yellow</td>\n",
       "    </tr>\n",
       "    <tr>\n",
       "      <th>3</th>\n",
       "      <td>1868285</td>\n",
       "      <td>B0010</td>\n",
       "      <td>20100105</td>\n",
       "      <td>Yellow</td>\n",
       "    </tr>\n",
       "    <tr>\n",
       "      <th>4</th>\n",
       "      <td>1868285</td>\n",
       "      <td>B0010</td>\n",
       "      <td>20100209</td>\n",
       "      <td>Yellow</td>\n",
       "    </tr>\n",
       "  </tbody>\n",
       "</table>\n",
       "</div>"
      ],
      "text/plain": [
       "   PSEUDO_ID TEST_CD  TEST_REPRT_DATE TEST_RESULT\n",
       "0    1868285   B0010         20090917      Yellow\n",
       "1    1868285   B0010         20091022      Yellow\n",
       "2    1868285   B0010         20091127      Yellow\n",
       "3    1868285   B0010         20100105      Yellow\n",
       "4    1868285   B0010         20100209      Yellow"
      ]
     },
     "execution_count": 6,
     "metadata": {},
     "output_type": "execute_result"
    }
   ],
   "source": [
    "data = pd.read_csv('../Data/Yodak.csv', encoding='cp949')\n",
    "\n",
    "data.head(5)"
   ]
  },
  {
   "cell_type": "code",
   "execution_count": 10,
   "metadata": {},
   "outputs": [
    {
     "data": {
      "text/plain": [
       "500000"
      ]
     },
     "execution_count": 10,
     "metadata": {},
     "output_type": "execute_result"
    }
   ],
   "source": [
    "len(data)"
   ]
  },
  {
   "cell_type": "markdown",
   "metadata": {},
   "source": [
    "# Data Preprocessing"
   ]
  },
  {
   "cell_type": "code",
   "execution_count": 7,
   "metadata": {},
   "outputs": [
    {
     "data": {
      "text/plain": [
       "PSEUDO_ID          0\n",
       "TEST_CD            0\n",
       "TEST_REPRT_DATE    0\n",
       "TEST_RESULT        0\n",
       "dtype: int64"
      ]
     },
     "execution_count": 7,
     "metadata": {},
     "output_type": "execute_result"
    }
   ],
   "source": [
    "# find nan\n",
    "\n",
    "data.isna().sum()"
   ]
  },
  {
   "cell_type": "code",
   "execution_count": 8,
   "metadata": {},
   "outputs": [
    {
     "data": {
      "text/plain": [
       "3"
      ]
     },
     "execution_count": 8,
     "metadata": {},
     "output_type": "execute_result"
    }
   ],
   "source": [
    "# find duplicates\n",
    "\n",
    "data.duplicated().sum()"
   ]
  },
  {
   "cell_type": "code",
   "execution_count": 9,
   "metadata": {},
   "outputs": [
    {
     "data": {
      "text/html": [
       "<div>\n",
       "<style scoped>\n",
       "    .dataframe tbody tr th:only-of-type {\n",
       "        vertical-align: middle;\n",
       "    }\n",
       "\n",
       "    .dataframe tbody tr th {\n",
       "        vertical-align: top;\n",
       "    }\n",
       "\n",
       "    .dataframe thead th {\n",
       "        text-align: right;\n",
       "    }\n",
       "</style>\n",
       "<table border=\"1\" class=\"dataframe\">\n",
       "  <thead>\n",
       "    <tr style=\"text-align: right;\">\n",
       "      <th></th>\n",
       "      <th>PSEUDO_ID</th>\n",
       "      <th>TEST_CD</th>\n",
       "      <th>TEST_REPRT_DATE</th>\n",
       "      <th>TEST_RESULT</th>\n",
       "    </tr>\n",
       "  </thead>\n",
       "  <tbody>\n",
       "    <tr>\n",
       "      <th>136608</th>\n",
       "      <td>50819265</td>\n",
       "      <td>백혈구</td>\n",
       "      <td>20130914</td>\n",
       "      <td>22</td>\n",
       "    </tr>\n",
       "    <tr>\n",
       "      <th>408200</th>\n",
       "      <td>891166425</td>\n",
       "      <td>잠혈</td>\n",
       "      <td>20180413</td>\n",
       "      <td>0</td>\n",
       "    </tr>\n",
       "    <tr>\n",
       "      <th>484173</th>\n",
       "      <td>930047895</td>\n",
       "      <td>잠혈</td>\n",
       "      <td>20190513</td>\n",
       "      <td>5</td>\n",
       "    </tr>\n",
       "  </tbody>\n",
       "</table>\n",
       "</div>"
      ],
      "text/plain": [
       "        PSEUDO_ID TEST_CD  TEST_REPRT_DATE TEST_RESULT\n",
       "136608   50819265     백혈구         20130914          22\n",
       "408200  891166425      잠혈         20180413           0\n",
       "484173  930047895      잠혈         20190513           5"
      ]
     },
     "execution_count": 9,
     "metadata": {},
     "output_type": "execute_result"
    }
   ],
   "source": [
    "data[data.duplicated()]"
   ]
  },
  {
   "cell_type": "code",
   "execution_count": 13,
   "metadata": {},
   "outputs": [
    {
     "data": {
      "text/plain": [
       "499997"
      ]
     },
     "execution_count": 13,
     "metadata": {},
     "output_type": "execute_result"
    }
   ],
   "source": [
    "# drop duplicates\n",
    "\n",
    "data = data.drop_duplicates()\n",
    "\n",
    "len(data)"
   ]
  },
  {
   "cell_type": "markdown",
   "metadata": {},
   "source": [
    "## Selecting columns"
   ]
  },
  {
   "cell_type": "code",
   "execution_count": 15,
   "metadata": {},
   "outputs": [
    {
     "data": {
      "text/plain": [
       "비중          34778\n",
       "B0043GG     34766\n",
       "B0043HH     34761\n",
       "B0043II     34753\n",
       "산도          34660\n",
       "단백질         34638\n",
       "잠혈          34629\n",
       "B0010       34627\n",
       "백혈구         34623\n",
       "포도당         34590\n",
       "케톤체         34527\n",
       "아질산염        34526\n",
       "우로빌리노겐      34517\n",
       "빌리루빈        34515\n",
       "B0030ROO    12274\n",
       "B0030RPP     2416\n",
       "B0030RGG      189\n",
       "B0030RDD       88\n",
       "B0030RQQ       78\n",
       "B0030RFF       40\n",
       "B0030REE        2\n",
       "Name: TEST_CD, dtype: int64"
      ]
     },
     "execution_count": 15,
     "metadata": {},
     "output_type": "execute_result"
    }
   ],
   "source": [
    "data.TEST_CD.value_counts()"
   ]
  },
  {
   "cell_type": "code",
   "execution_count": 21,
   "metadata": {},
   "outputs": [],
   "source": [
    "# 단백질, 백혈구, 비중, 빌리루빈, 산도, 아질산염, 우로빌리노겐, 잠혈, 케톤체, 포도당\n",
    "\n",
    "protein = data.loc[data.TEST_CD == '단백질']\n",
    "leukocyte = data.loc[data.TEST_CD == '백혈구']\n",
    "sg = data.loc[data.TEST_CD == '비중']\n",
    "bilirubin = data.loc[data.TEST_CD == '빌리루빈']\n",
    "acidity = data.loc[data.TEST_CD == '산도']\n",
    "nitrite = data.loc[data.TEST_CD == '아질산염']\n",
    "urobilinogen = data.loc[data.TEST_CD == '우로빌리노겐']\n",
    "occult_blood  = data.loc[data.TEST_CD == '잠혈']\n",
    "ketone_body = data.loc[data.TEST_CD == '케톤체']\n",
    "glucose = data.loc[data.TEST_CD == '포도당']"
   ]
  },
  {
   "cell_type": "markdown",
   "metadata": {},
   "source": [
    "# Making Data"
   ]
  },
  {
   "cell_type": "code",
   "execution_count": 25,
   "metadata": {},
   "outputs": [
    {
     "data": {
      "text/plain": [
       "100130475    170\n",
       "2088715      150\n",
       "50819265     143\n",
       "930011215    125\n",
       "930147815    122\n",
       "            ... \n",
       "70053215      20\n",
       "150068385     19\n",
       "80032675      19\n",
       "850192935     19\n",
       "911746785     19\n",
       "Name: PSEUDO_ID, Length: 966, dtype: int64"
      ]
     },
     "execution_count": 25,
     "metadata": {},
     "output_type": "execute_result"
    }
   ],
   "source": [
    "protein.PSEUDO_ID.value_counts()"
   ]
  },
  {
   "cell_type": "code",
   "execution_count": null,
   "metadata": {},
   "outputs": [],
   "source": []
  }
 ],
 "metadata": {
  "kernelspec": {
   "display_name": "Python 3.7.15 ('Yodak')",
   "language": "python",
   "name": "python3"
  },
  "language_info": {
   "codemirror_mode": {
    "name": "ipython",
    "version": 3
   },
   "file_extension": ".py",
   "mimetype": "text/x-python",
   "name": "python",
   "nbconvert_exporter": "python",
   "pygments_lexer": "ipython3",
   "version": "3.7.15"
  },
  "orig_nbformat": 4,
  "vscode": {
   "interpreter": {
    "hash": "01702e240f7494b8c16d6e9c539c90f427c4d050527720bdf632d9f51ab6185c"
   }
  }
 },
 "nbformat": 4,
 "nbformat_minor": 2
}
